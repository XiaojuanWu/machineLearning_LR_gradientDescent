{
 "cells": [
  {
   "cell_type": "code",
   "execution_count": 3,
   "metadata": {
    "collapsed": false
   },
   "outputs": [],
   "source": [
    "import IPython\n",
    "import numpy as np\n",
    "import scipy as sp\n",
    "import pandas as pd\n",
    "import matplotlib as plt\n",
    "import sklearn\n",
    "from sklearn.datasets import load_boston\n",
    "bdata = load_boston()"
   ]
  },
  {
   "cell_type": "code",
   "execution_count": 4,
   "metadata": {
    "collapsed": false
   },
   "outputs": [
    {
     "name": "stdout",
     "output_type": "stream",
     "text": [
      "['data', 'feature_names', 'DESCR', 'target']\n",
      "['CRIM' 'ZN' 'INDUS' 'CHAS' 'NOX' 'RM' 'AGE' 'DIS' 'RAD' 'TAX' 'PTRATIO'\n",
      " 'B' 'LSTAT']\n",
      "(506,)\n",
      "(506, 13)\n",
      "Boston House Prices dataset\n",
      "===========================\n",
      "\n",
      "Notes\n",
      "------\n",
      "Data Set Characteristics:  \n",
      "\n",
      "    :Number of Instances: 506 \n",
      "\n",
      "    :Number of Attributes: 13 numeric/categorical predictive\n",
      "    \n",
      "    :Median Value (attribute 14) is usually the target\n",
      "\n",
      "    :Attribute Information (in order):\n",
      "        - CRIM     per capita crime rate by town\n",
      "        - ZN       proportion of residential land zoned for lots over 25,000 sq.ft.\n",
      "        - INDUS    proportion of non-retail business acres per town\n",
      "        - CHAS     Charles River dummy variable (= 1 if tract bounds river; 0 otherwise)\n",
      "        - NOX      nitric oxides concentration (parts per 10 million)\n",
      "        - RM       average number of rooms per dwelling\n",
      "        - AGE      proportion of owner-occupied units built prior to 1940\n",
      "        - DIS      weighted distances to five Boston employment centres\n",
      "        - RAD      index of accessibility to radial highways\n",
      "        - TAX      full-value property-tax rate per $10,000\n",
      "        - PTRATIO  pupil-teacher ratio by town\n",
      "        - B        1000(Bk - 0.63)^2 where Bk is the proportion of blacks by town\n",
      "        - LSTAT    % lower status of the population\n",
      "        - MEDV     Median value of owner-occupied homes in $1000's\n",
      "\n",
      "    :Missing Attribute Values: None\n",
      "\n",
      "    :Creator: Harrison, D. and Rubinfeld, D.L.\n",
      "\n",
      "This is a copy of UCI ML housing dataset.\n",
      "http://archive.ics.uci.edu/ml/datasets/Housing\n",
      "\n",
      "\n",
      "This dataset was taken from the StatLib library which is maintained at Carnegie Mellon University.\n",
      "\n",
      "The Boston house-price data of Harrison, D. and Rubinfeld, D.L. 'Hedonic\n",
      "prices and the demand for clean air', J. Environ. Economics & Management,\n",
      "vol.5, 81-102, 1978.   Used in Belsley, Kuh & Welsch, 'Regression diagnostics\n",
      "...', Wiley, 1980.   N.B. Various transformations are used in the table on\n",
      "pages 244-261 of the latter.\n",
      "\n",
      "The Boston house-price data has been used in many machine learning papers that address regression\n",
      "problems.   \n",
      "     \n",
      "**References**\n",
      "\n",
      "   - Belsley, Kuh & Welsch, 'Regression diagnostics: Identifying Influential Data and Sources of Collinearity', Wiley, 1980. 244-261.\n",
      "   - Quinlan,R. (1993). Combining Instance-Based and Model-Based Learning. In Proceedings on the Tenth International Conference of Machine Learning, 236-243, University of Massachusetts, Amherst. Morgan Kaufmann.\n",
      "   - many more! (see http://archive.ics.uci.edu/ml/datasets/Housing)\n",
      "\n"
     ]
    }
   ],
   "source": [
    "#Explore the dataset\n",
    "print bdata.keys()\n",
    "print bdata.feature_names\n",
    "print bdata.target.shape\n",
    "print bdata.data.shape\n",
    "print bdata.DESCR"
   ]
  },
  {
   "cell_type": "code",
   "execution_count": 5,
   "metadata": {
    "collapsed": false
   },
   "outputs": [
    {
     "name": "stdout",
     "output_type": "stream",
     "text": [
      "The intercept coefficient is -34.670621,\n",
      "The slope coefficient is 9.102109\n"
     ]
    }
   ],
   "source": [
    "import statsmodels.formula.api as smf\n",
    "#Get the featuresa and create a new dataset including all the new features together\n",
    "rm = bdata.data[:,5]\n",
    "rm_square = [i**2 for i in rm]\n",
    "price = bdata.target\n",
    "data1 = np.vstack([rm, rm_square, price]).transpose()\n",
    "data2 = pd.DataFrame(data1).dropna()\n",
    "data2.columns = ['rm', 'rm_square', 'price']\n",
    "\n",
    "#Show the relationship between the house price and room numbers\n",
    "mod_rm = smf.ols(formula = 'price ~ rm',data = data2)\n",
    "res_rm = mod_rm.fit()\n",
    "\n",
    "#Get the intercept and slope coefficient\n",
    "inte_coef1= res_rm.params[0]\n",
    "slope_coef1 = res_rm.params[1]\n",
    "print \"The intercept coefficient is %f,\\nThe slope coefficient is %f\"%(inte_coef1, slope_coef1)"
   ]
  },
  {
   "cell_type": "markdown",
   "metadata": {},
   "source": [
    "### Conclusion:\n",
    "If we only choose to show the relationship between the house price and room number. The slope coefficeint is 9.1 and positive. That means the room number has a positive influence on the house price. After we add the squared room number to the equation, the relationship is not linear any more. It become a curve. That means the house price is not always up when the room number is more. "
   ]
  },
  {
   "cell_type": "code",
   "execution_count": 8,
   "metadata": {
    "collapsed": false,
    "scrolled": true
   },
   "outputs": [
    {
     "name": "stdout",
     "output_type": "stream",
     "text": [
      "The intercept coefficient is 66.058847;\n",
      "The slope coefficient of rm is -22.643262;\n",
      "The slope coefficient of rm square is 2.470124.\n"
     ]
    }
   ],
   "source": [
    "#Show the relationship between the house price and room number and squared room number\n",
    "mod_rm_square = smf.ols(formula = 'price ~ rm + rm_square',data = data2)\n",
    "res_rm_square = mod_rm_square.fit()\n",
    "\n",
    "#Get the intercept and slope coefficients\n",
    "inte_coef2 = res_rm_square.params[0]\n",
    "slope_coef2 = res_rm_square.params[1]\n",
    "slope_coef3 = res_rm_square.params[2]\n",
    "\n",
    "print \"The intercept coefficient is %f;\\nThe slope coefficient of rm is %f;\\nThe slope coefficient of rm square is %f.\"%(inte_coef2, slope_coef2,slope_coef3)"
   ]
  },
  {
   "cell_type": "code",
   "execution_count": 10,
   "metadata": {
    "collapsed": false
   },
   "outputs": [
    {
     "name": "stdout",
     "output_type": "stream",
     "text": [
      "(333, 13)\n",
      "(333,)\n",
      "(173, 13)\n",
      "(173,)\n"
     ]
    }
   ],
   "source": [
    "#import library needed and split the whole dataset as training data set and test dataset. The training dataset will be 66% of the whole dataset\n",
    "from sklearn import cross_validation\n",
    "bdata_train, bdata_test, btarget_train, btarget_test = cross_validation.train_test_split(bdata.data, bdata.target, test_size=0.34, random_state=0)\n",
    "print bdata_train.shape \n",
    "print btarget_train.shape\n",
    "print bdata_test.shape\n",
    "print btarget_test.shape"
   ]
  },
  {
   "cell_type": "code",
   "execution_count": 12,
   "metadata": {
    "collapsed": false
   },
   "outputs": [
    {
     "data": {
      "image/png": "[encoded data removed]",
      "text/plain": [
       "<matplotlib.figure.Figure at 0x11869ce10>"
      ]
     },
     "metadata": {},
     "output_type": "display_data"
    }
   ],
   "source": [
    "#import Kfold \n",
    "from sklearn.cross_validation import KFold\n",
    "from sklearn.linear_model import LinearRegression\n",
    "\n",
    "coef = []\n",
    "length = len(bdata_train)\n",
    "k = 120\n",
    "kf = KFold(length, n_folds=k)\n",
    "x = bdata_train[:,5:6]\n",
    "y = btarget_train\n",
    "\n",
    "    #Splite the dataset to training dataset and test dataset based on K values\n",
    "for train_index, test_index in kf:\n",
    "    x_train = x[train_index]\n",
    "    x_test = x[test_index]\n",
    "    y_train =y[train_index]\n",
    "    y_test = y[test_index]\n",
    "            \n",
    "    #Call the linear regression function\n",
    "    lm = LinearRegression()\n",
    "    lm.fit(x_train, y_train)\n",
    "    coef.append(lm.coef_[0])\n",
    "\n",
    "#Import the plot library\n",
    "%matplotlib inline  \n",
    "import matplotlib.pyplot as plt  \n",
    "\n",
    "#Make the graph\n",
    "plt.hist(coef)\n",
    "\n",
    "#Add the vertical line to show the slope coefficient value in estimation\n",
    "plt.axvline(slope_coef1, color='r', linestyle='dashed', linewidth=2)\n",
    "plt.xlabel('The Slope Coefficient')\n",
    "plt.ylabel('The Frequency')\n",
    "plt.title('The Distribtuion of Slope Coefficient')\n",
    "plt.legend()\n",
    "plt.grid()\n",
    "#Remove the right and top axis\n",
    "ax = plt.subplot(111)\n",
    "ax.spines[\"right\"].set_visible(False)\n",
    "ax.spines[\"top\"].set_visible(False)\n",
    "plt.tick_params(top = \"off\", right = \"off\")\n",
    "\n",
    "#Add a virtical line to show the value of slope coefficient in the estimation 1:\n",
    "plt.show()\n"
   ]
  },
  {
   "cell_type": "markdown",
   "metadata": {},
   "source": [
    "*Enter your observations here*\n",
    "\n",
    "When you set the K value as 35 or bigger, the slope coefficient got from full dataset will far from the  median of the slope coefficients got from KFolds."
   ]
  },
  {
   "cell_type": "markdown",
   "metadata": {},
   "source": [
    "### 1.3 Regression lines\n",
    "\n",
    "Create a scatterplot of housing price on rooms per house, and add the two regression lines from 1.1 (or 1.2 if you prefer to do so). Show the linear regression line in red, and the linear+quadratic regression line (which may have curvature) in blue.  Label these two regression lines with the corresponding regression equations (i.e. the slope and intercept of the line).\n",
    "\n",
    "Bonus: Add the 95% confidence bands (i.e.,  the area that has a 95% chance of containing the true regression line) to each of these lines."
   ]
  },
  {
   "cell_type": "markdown",
   "metadata": {},
   "source": [
    "\n"
   ]
  },
  {
   "cell_type": "code",
   "execution_count": 13,
   "metadata": {
    "collapsed": false
   },
   "outputs": [
    {
     "data": {
      "image/png": "[encoded data removed]",
      "text/plain": [
       "<matplotlib.figure.Figure at 0x119f64450>"
      ]
     },
     "metadata": {},
     "output_type": "display_data"
    }
   ],
   "source": [
    "#Set the graph size\n",
    "plt.figure(figsize=(9,6))\n",
    "ax = plt.subplot(111)\n",
    "rm_space = np.linspace(data2.rm.min(), data2.rm.max(), 100)\n",
    "\n",
    "plt.scatter(rm, price)\n",
    "plt.plot(rm,inte_coef1 + slope_coef1*rm, '-', color = 'r', label ='y = -34.67+9.1*x')\n",
    "plt.plot(rm_space, inte_coef2 + slope_coef2*rm_space + slope_coef3*rm_space**2, '-', color = 'b', label='y = -60.06-22.64*x+2.47*x^2')\n",
    "plt.xlabel('Room Numbers')\n",
    "plt.ylabel('The Media House Price (in 1,000$)')\n",
    "plt.title('The Relationship between House Price and Room Numbers')\n",
    "plt.grid()\n",
    "plt.legend()\n",
    "\n",
    "#Remove the right and top axis\n",
    "ax.spines[\"right\"].set_visible(False)\n",
    "ax.spines[\"top\"].set_visible(False)\n",
    "plt.tick_params(top = \"off\", right = \"off\")\n"
   ]
  },
  {
   "cell_type": "markdown",
   "metadata": {},
   "source": [
    "## Gradient descent: Linear Regression\n",
    "\n",
    "### 2.1 Implement gradient descent with one independent variable (Average rooms per house). It includes parts showing as below:\n",
    "\n",
    "* Report the values of alpha and beta that minimize the loss function\n",
    "* Report the number of iterations it takes for your algorithm to converge (for each value of *R*)\n",
    "* Report the total running time of your algorithm, in seconds"
   ]
  },
  {
   "cell_type": "code",
   "execution_count": 15,
   "metadata": {
    "collapsed": false
   },
   "outputs": [
    {
     "name": "stdout",
     "output_type": "stream",
     "text": [
      "(-35.606218005461301, 9.261106950095213, 21615)\n",
      "(-35.603045828797207, 9.2606106617991255, 31589)\n",
      "(-35.60811109380424, 9.2614031245166082, 16507)\n",
      "None\n",
      "Time taken: 6.04 seconds\n"
     ]
    }
   ],
   "source": [
    "\"\"\"\n",
    "Function\n",
    "--------\n",
    "bivariate_ols\n",
    "    Gradient Decent to minimize OLS. Used to find co-efficients of bivariate OLS Linear regression\n",
    "\n",
    "Parameters\n",
    "----------\n",
    "xvalues, yvalues : narray\n",
    "    xvalues: independent variable\n",
    "    yvalues: dependent variable\n",
    "    \n",
    "R: float\n",
    "    Learning rate\n",
    "    \n",
    "MaxIterations: Int\n",
    "    maximum number of iterations\n",
    "    \n",
    "\n",
    "Returns\n",
    "-------\n",
    "alpha: float\n",
    "    intercept\n",
    "    \n",
    "beta: float\n",
    "    co-efficient\n",
    "\"\"\"\n",
    "import time\n",
    "start_time = time.time()\n",
    "def bivariate_ols(xvalues, yvalues, R=0.01, MaxIterations=1000):\n",
    "    # initialize the parameters\n",
    "    alpha = 1.0\n",
    "    beta = 1.0\n",
    "    mini_cost = 0\n",
    "    iteration = 1\n",
    "    m = len(xvalues)\n",
    "    while iteration <= MaxIterations:\n",
    "        \n",
    "        #Calcualte the total loss\n",
    "        sum_alpha = np.sum(alpha + np.dot(xvalues,beta) - yvalues)\n",
    "        sum_beta = np.sum((alpha + np.dot(xvalues,beta) - yvalues)*xvalues)\n",
    "        \n",
    "        #Get the alpha and beta value for this iteration\n",
    "        alpha = alpha - R*sum_alpha/m\n",
    "        beta = beta - R*sum_beta/m\n",
    "        \n",
    "        #Calculate the cost value for this iteration\n",
    "        cost = np.sum((alpha + np.dot(xvalues, beta) - yvalues)**2)/2*m\n",
    "        \n",
    "        #Set the trigger\n",
    "        if np.abs(mini_cost - cost) <= 0.0001:\n",
    "            return alpha, beta, iteration\n",
    "            break\n",
    "        mini_cost = cost\n",
    "        iteration += 1   \n",
    "        \n",
    "        \n",
    "print bivariate_ols(bdata_train[:,5], btarget_train, 0.03, 100000)\n",
    "print bivariate_ols(bdata_train[:,5], btarget_train, 0.02, 100000)\n",
    "print bivariate_ols(bdata_train[:,5], btarget_train, 0.04, 100000)\n",
    "print bivariate_ols(bdata_train[:,5], btarget_train, 1.20, 100000)\n",
    "print \"Time taken: \" + str(round(time.time() - start_time,2)) + \" seconds\""
   ]
  },
  {
   "cell_type": "markdown",
   "metadata": {},
   "source": [
    "Generally speaking, the bigger the R value we choose, the less iterations will be took to find the parameters that can minimize the coss function. But if the R value is too larger, we may miss the right parameters."
   ]
  },
  {
   "cell_type": "markdown",
   "metadata": {},
   "source": [
    "### Data normalization\n",
    "\n",
    "Soon, you will implement a version of gradient descent that can use an arbitrary number of independent variables. Before doing this, however, you should re-scale your features to ensure that no single feature dominates the cost function. Write a simple function to [standardize](http://en.wikipedia.org/wiki/Standard_score) a feature."
   ]
  },
  {
   "cell_type": "code",
   "execution_count": 18,
   "metadata": {
    "collapsed": false
   },
   "outputs": [],
   "source": [
    "def standardize(raw_data):\n",
    "    #Calcualte the mean and standard deviation of dataset\n",
    "    normalized_data = raw_data.copy()\n",
    "    data_mean = np.mean(raw_data, axis = 0)\n",
    "    data_std = np.std(raw_data, axis = 0)\n",
    "    \n",
    "    #Normalized data\n",
    "    normalized_data = (raw_data - data_mean)/data_std\n",
    "    return normalized_data"
   ]
  },
  {
   "cell_type": "markdown",
   "metadata": {},
   "source": [
    "### 2.3 Implement gradient descent with an arbitrary number of independent variables\n",
    "\n",
    "Now it is the time to create a version of gradient descent that can take more than one independent variable.  Assume all independent variables will be continuous.  Test the algorithm using CRIM and RM as independent variables (and make sure to standardize these features before inputting them to the gradient descent algorithm!).\n",
    "\n",
    "At the end,  it will report the estimated coefficients, the number of iterations before convergence, and the total running time of the algorithm. Experiment with 2-3 different values of R."
   ]
  },
  {
   "cell_type": "code",
   "execution_count": 21,
   "metadata": {
    "collapsed": false
   },
   "outputs": [
    {
     "name": "stdout",
     "output_type": "stream",
     "text": [
      "When set R as 0.001:\n",
      "The intercept coefficient is 22.869361;\n",
      "The slope coefficient of crim is -2.407951;\n",
      "The slope coefficient of rm is 6.116205;\n",
      "The iteration is 10083.\n",
      "\n",
      "When set R as 0.006:\n",
      "The intercept coefficient is 22.870166;\n",
      "The slope coefficient of crim is -2.407787;\n",
      "The slope coefficient of rm is 6.116420;\n",
      "The iteration is 198.\n",
      "\n",
      "When set R as 0.7:\n",
      "The intercept coefficient is 22.870269;\n",
      "The slope coefficient of crim is -2.407753;\n",
      "The slope coefficient of rm is 6.116457;\n",
      "The iteration is 14.\n",
      "\n",
      "When set R as 1.5:\n",
      "The intercept coefficient is 22.870270;\n",
      "The slope coefficient of crim is -2.407721;\n",
      "The slope coefficient of rm is 6.116438;\n",
      "The iteration is 48.\n",
      "\n",
      "When set R as 5: None\n"
     ]
    }
   ],
   "source": [
    "\"\"\"\n",
    "Function\n",
    "--------\n",
    "multivariate_ols\n",
    "    Gradient Decent to minimize OLS. Used to find co-efficients of bivariate OLS Linear regression\n",
    "\n",
    "Parameters\n",
    "----------\n",
    "xvalue_matrix, yvalues : narray\n",
    "    xvalue_matrix: independent variable\n",
    "    yvalues: dependent variable\n",
    "    \n",
    "R: float\n",
    "    Learning rate\n",
    "    \n",
    "MaxIterations: Int\n",
    "    maximum number of iterations\n",
    "    \n",
    "\n",
    "Returns\n",
    "-------\n",
    "alpha: float\n",
    "    intercept\n",
    "    \n",
    "beta_array: array[float]\n",
    "    co-efficient\n",
    "\"\"\"\n",
    "start_time = time.time()\n",
    "def multivariate_ols(xvalue_matrix, yvalues, R=0.01, MaxIterations=1000):\n",
    "    #Normalize features\n",
    "    xvalue_matrix = standardize(xvalue_matrix)\n",
    "    #m,n represent the number of rows and columns\n",
    "    m,n = xvalue_matrix.shape\n",
    "    \n",
    "    #Initialized the value of alpha and beta as 1\n",
    "    alpha = 1.0\n",
    "    beta_array = [1.0 for i in range(n)]\n",
    "    mini_cost = 0\n",
    "    \n",
    "    #Set the iteration equals at least 1\n",
    "    iteration = 1\n",
    "    while iteration <= MaxIterations:\n",
    "        #'h' represents the simplified hypothesis\n",
    "        h = 0\n",
    "        #iterate all the features and beta\n",
    "        for i in range(n):\n",
    "            h += np.dot(xvalue_matrix[:,i],beta_array[i]) \n",
    "        \n",
    "        #Get the alpha value\n",
    "        sum_alpha = np.sum(alpha + h - yvalues)\n",
    "        alpha = alpha - R*sum_alpha/m\n",
    "        \n",
    "        #Calculate the beta value\n",
    "        for i in range(n):\n",
    "            sum_beta = np.sum((alpha + h - yvalues)*xvalue_matrix[:,i])\n",
    "            beta_array[i] = beta_array[i] - R*sum_beta/m\n",
    "        \n",
    "        #Calcualte the cast for this iteration\n",
    "        cost = np.sum((alpha + h - yvalues)**2)/2*m\n",
    "        \n",
    "        #Set the trigger\n",
    "        if np.abs(mini_cost - cost) <= 0.0001:\n",
    "            return alpha, beta_array,iteration\n",
    "            break\n",
    "        mini_cost = cost\n",
    "        iteration += 1  \n",
    "        \n",
    "        \n",
    "#Try different R values\n",
    "(in_coef, sl_coef,iterations) = multivariate_ols(bdata_train[:,(0,5)], btarget_train, R=0.001, MaxIterations=100000)\n",
    "print \"When set R as 0.001:\\nThe intercept coefficient is %f;\\nThe slope coefficient of crim is %f;\\nThe slope coefficient of rm is %f;\\nThe iteration is %s.\\n\"%(in_coef, sl_coef[0],sl_coef[1],iterations)\n",
    "\n",
    "(in_coef, sl_coef,iterations) = multivariate_ols(bdata_train[:,(0,5)], btarget_train, R=0.06, MaxIterations=100000)\n",
    "print \"When set R as 0.006:\\nThe intercept coefficient is %f;\\nThe slope coefficient of crim is %f;\\nThe slope coefficient of rm is %f;\\nThe iteration is %s.\\n\"%(in_coef, sl_coef[0],sl_coef[1],iterations)\n",
    "\n",
    "(in_coef, sl_coef,iterations) = multivariate_ols(bdata_train[:,(0,5)], btarget_train, R=0.7, MaxIterations=100000)\n",
    "print \"When set R as 0.7:\\nThe intercept coefficient is %f;\\nThe slope coefficient of crim is %f;\\nThe slope coefficient of rm is %f;\\nThe iteration is %s.\\n\"%(in_coef, sl_coef[0],sl_coef[1],iterations)\n",
    "\n",
    "(in_coef, sl_coef,iterations) = multivariate_ols(bdata_train[:,(0,5)], btarget_train, R= 1.5, MaxIterations=100000)\n",
    "print \"When set R as 1.5:\\nThe intercept coefficient is %f;\\nThe slope coefficient of crim is %f;\\nThe slope coefficient of rm is %f;\\nThe iteration is %s.\\n\"%(in_coef, sl_coef[0],sl_coef[1],iterations)\n",
    "\n",
    "print \"When set R as 5:\",multivariate_ols(bdata_train[:,(0,5)], btarget_train, R= 5, MaxIterations=100000)\n"
   ]
  },
  {
   "cell_type": "markdown",
   "metadata": {},
   "source": [
    "Generally speaking, the bigger the R value is, the less iterations and time will be took to find the parameters. But if the R value is too large, it fails to find the right parameters(like the example above when set the R equals to 5). And also if R value is large, it may diverge, that means it takes more time and iterations to find the right parameters.(In the example above, the R =1.5 takes more time and iteration than R=0.7 to find the parameters)"
   ]
  },
  {
   "cell_type": "markdown",
   "metadata": {},
   "source": [
    "### 2.4. Cross-Validation\n",
    "\n",
    "Use k-fold cross-validation to fix the overfit problem."
   ]
  },
  {
   "cell_type": "code",
   "execution_count": 23,
   "metadata": {
    "collapsed": false
   },
   "outputs": [
    {
     "name": "stdout",
     "output_type": "stream",
     "text": [
      "The intercept coefficients is 22.870184,\n",
      "The slope coefficient of crim is -2.406253;\n",
      "The slope coefficient of rm is 6.115499:\n",
      "Time taken: 0.13 seconds\n"
     ]
    }
   ],
   "source": [
    "#Calculate the coefficients using cross validation\n",
    "\n",
    "import time\n",
    "start_time = time.time()\n",
    "\n",
    "def calCoef_kFold(k, xdata, ydata, R = 0.01, MaxIteration = 1000):\n",
    "    intecept_coef = []\n",
    "    slope_coef = []\n",
    "    length = len(xdata)\n",
    "    kf = KFold(length, n_folds=k)\n",
    "    #Splite the dataset to training dataset and test dataset based on K values\n",
    "    for train, test in kf:\n",
    "        x_train = xdata[train]\n",
    "        x_test = xdata[test]\n",
    "        y_train = ydata[train]\n",
    "        y_test = ydata[test]\n",
    "        \n",
    "        #Call the grediant descent function\n",
    "        #Features will be normalized in this function\n",
    "        a = multivariate_ols(x_train, y_train, R=0.1, MaxIterations=10000)\n",
    "        \n",
    "        #Splite the result as intercept coefficient and slope coefficient\n",
    "        inte_coef = a[0]\n",
    "        slo_coef = a[1]\n",
    "        intecept_coef.append(inte_coef)\n",
    "        slope_coef.append(slo_coef)\n",
    "   \n",
    "    #Calculate the average coefficients across the k foles\n",
    "    intecept_coef = np.mean(intecept_coef, axis = 0)\n",
    "    slope_coef = np.mean(slope_coef, axis = 0)\n",
    "    return intecept_coef,slope_coef\n",
    "\n",
    "#Set kfold = 20\n",
    "(in_coef, sl_coef) = calCoef_kFold(20, bdata_train[:,(0,5)], btarget_train, R = 0.06, MaxIteration = 10000)\n",
    "print \"The intercept coefficients is %f,\\nThe slope coefficient of crim is %f;\\nThe slope coefficient of rm is %f:\"%(in_coef, sl_coef[0], sl_coef[1])\n",
    "print \"Time taken: \" + str(round(time.time() - start_time,2)) + \" seconds\""
   ]
  },
  {
   "cell_type": "code",
   "execution_count": 24,
   "metadata": {
    "collapsed": false
   },
   "outputs": [
    {
     "name": "stdout",
     "output_type": "stream",
     "text": [
      "Intercept coefficient is: 22.8702702703\n",
      "The slope coefficient of crim is -2.407747;\n",
      "The slope coefficient of rm is 6.116463\n"
     ]
    }
   ],
   "source": [
    "#Use the stardard package to get the coefficients\n",
    "#Normalize features\n",
    "xtrain = standardize(bdata_train)\n",
    "CRIM = xtrain[:,0]\n",
    "RM = xtrain[:,5]\n",
    "PRICE = btarget_train\n",
    "data11 = np.vstack([CRIM,RM, PRICE]).transpose()\n",
    "data22 = pd.DataFrame(data11).dropna()\n",
    "data22.columns = ['CRIM', 'RM', 'PRICE']\n",
    "\n",
    "#Show the relationship between the house price and room numbers\n",
    "mod_rm = smf.ols(formula = 'PRICE ~ CRIM + RM',data = data22)\n",
    "res_rm = mod_rm.fit()\n",
    "\n",
    "#Get the intercept and slope coefficient\n",
    "inte_coef3= res_rm.params[0]\n",
    "slope_coef_crim = res_rm.params[1]\n",
    "slope_coef_rm = res_rm.params[2]\n",
    "\n",
    "print \"Intercept coefficient is:\", inte_coef3\n",
    "print \"The slope coefficient of crim is %f;\\nThe slope coefficient of rm is %f\"%(slope_coef_crim, slope_coef_rm)"
   ]
  },
  {
   "cell_type": "markdown",
   "metadata": {},
   "source": [
    "*Discuss your results here*\n",
    "\n",
    "The estimated coefficients got from cross validation are very similar to those got from 2.3. Compare to the coefficients got form standard package, the coefficients got from cross validation are just very slightly smaller. We using three differenct ways get very similar results."
   ]
  },
  {
   "cell_type": "markdown",
   "metadata": {},
   "source": [
    "### 2.5 Predicted values and RMSE\n",
    "\n",
    "Let's figure out how accurate this predictive model turned out to be. Compute the RMSE on your test cases, i.e. take the model parameters that you found above and compare the actual to the predicted values for just the test instances. If you did this the k-fold way above, this will be the average RMSE across the k test sets. If you did this the quick and dirty way above, this will just be the RMSE on your single test set."
   ]
  },
  {
   "cell_type": "code",
   "execution_count": 27,
   "metadata": {
    "collapsed": false
   },
   "outputs": [],
   "source": [
    "#Function used to calcualte the rmse\n",
    "def compute_rmse(predictions, yvalues):\n",
    "    if len(predictions) != len(yvalues):\n",
    "        return False\n",
    "    length = len(yvalues)\n",
    "    sum = 0\n",
    "    for i in range(length):\n",
    "        diff = pow((predictions[i] - yvalues[i]),2)\n",
    "        sum = sum + diff\n",
    "    rmse = np.sqrt(float(sum)/length)\n",
    "    return rmse"
   ]
  },
  {
   "cell_type": "code",
   "execution_count": 28,
   "metadata": {
    "collapsed": false
   },
   "outputs": [
    {
     "name": "stdout",
     "output_type": "stream",
     "text": [
      "The average RMSE is: 6.14746405352\n",
      "Time taken: 0.03 seconds\n"
     ]
    }
   ],
   "source": [
    "import time\n",
    "start_time = time.time()\n",
    "def calRmse(k, xdata, ydata, R = 0.01, MaxIteration = 1000):\n",
    "    length = len(xdata)\n",
    "    kf = KFold(length, n_folds=k)\n",
    "    RMSE = []\n",
    "    m,n = xdata.shape\n",
    "        #Splite the dataset to training dataset and test dataset based on K values\n",
    "    for train, test in kf:\n",
    "        x_train = xdata[train]\n",
    "        x_test = xdata[test]\n",
    "        y_train =ydata[train]\n",
    "        y_test = ydata[test]\n",
    "        \n",
    "        #Call the grediant descent function\n",
    "        (inte_coef, slo_coef,iterations) = multivariate_ols(x_train, y_train, R=0.1, MaxIterations=100000)\n",
    "        \n",
    "        #Splite the result to intercept coefficient and slope coefficient\n",
    "        #slo_coef_crim = slo_coef[0]\n",
    "        #slo_coef_rm = slo_coef[1]\n",
    "        \n",
    "        #Use the test dataset to get the prediction values\n",
    "        predictions = []\n",
    "        for j in range(len(x_test)):\n",
    "            y = inte_coef + np.sum(slo_coef[i]*x_test[j,i] for i in range(n))\n",
    "            predictions.append(y)\n",
    "        \n",
    "        #Calculate the rmse:\n",
    "        rmse = compute_rmse(predictions, y_test)\n",
    "        RMSE.append(rmse)\n",
    "        \n",
    "    #Get the average 'RMSE'    \n",
    "    avg_rmse = np.mean(RMSE, axis = 0)   \n",
    "    return avg_rmse\n",
    "\n",
    "#Normalize features\n",
    "xdata = standardize(bdata_train)\n",
    "print \"The average RMSE is:\",calRmse(5, xdata[:,(0,5)], btarget_train, R = 0.01, MaxIteration = 1000)\n",
    "print \"Time taken: \" + str(round(time.time() - start_time,2)) + \" seconds\""
   ]
  },
  {
   "cell_type": "markdown",
   "metadata": {},
   "source": [
    "*Discuss your results here*\n",
    "\n",
    "By using the same features(RM and CRIM), the RMSE got from nearest neighbor is about 7.37, while the RMSE got from cross validation is about 6.15. The cross validation can get smaller RMSE than the nearest neighber. The cross validation is a better way to optimize the model. "
   ]
  },
  {
   "cell_type": "markdown",
   "metadata": {},
   "source": [
    "### Logistic Regression\n",
    "Implement logistic regression using gradient descent. Create a new variable (EXPENSIVE) to indicate whether the median housing price is more than $400,000. Use your model  a logistic regression of EXPENSIVE on CHAS and RM. Report your results."
   ]
  },
  {
   "cell_type": "code",
   "execution_count": 32,
   "metadata": {
    "collapsed": false
   },
   "outputs": [],
   "source": [
    "#Create new variable \"EXPENSIVE\"\n",
    "m = bdata.target.copy()\n",
    "EXPENSIVE = []\n",
    "for i in m:\n",
    "    if i <= 40:\n",
    "        i = 0\n",
    "        EXPENSIVE.append(i)\n",
    "    else:\n",
    "        i = 1\n",
    "        EXPENSIVE.append(i)"
   ]
  },
  {
   "cell_type": "markdown",
   "metadata": {},
   "source": [
    "*Discuss your results here*"
   ]
  },
  {
   "cell_type": "markdown",
   "metadata": {},
   "source": [
    "## 3 Regularization \n",
    "\n",
    "### 3.1 Get prepped\n",
    "\n",
    "Step 1: For each of the continuous features F in the original dataset, create a scaled version F_s.  Now, create three more transformations of F_s: the natural log of F_s (call this F_ln); the square of F_s (call this F_2); the cube of F_s (call this F_3). If you originally had *K* features, you should now have *4K* features corresponding to F_s, F_ln, F_2, and F_3 (i.e., we're going to ignore the original unscaled features for the remainder of this problem).\n",
    "\n",
    "Step 2: For simplicity, generate a single training and testing set.  Randomly sample 66% of your data and call this the training set, and set aside the remaining 34% as your test set."
   ]
  },
  {
   "cell_type": "code",
   "execution_count": 33,
   "metadata": {
    "collapsed": false
   },
   "outputs": [
    {
     "name": "stdout",
     "output_type": "stream",
     "text": [
      "(506, 36)\n",
      "Time taken: 0.0 seconds\n"
     ]
    }
   ],
   "source": [
    "import time\n",
    "start_time = time.time()\n",
    "#As the 'CHAS' is not a continuous feature. We need to remove the 'CHAS'\n",
    "b = bdata.data[:,:3]\n",
    "a = bdata.data[:,4:]\n",
    "new_data = np.hstack([b,a])\n",
    "\n",
    "#Normalize the dataset:\n",
    "new_data = standardize(new_data)\n",
    "\n",
    "#Generate new features\n",
    "m,n = new_data.shape\n",
    "ini_data = new_data[:,0]\n",
    "#Iterate all the features in the original dataset\n",
    "for i in range(n):\n",
    "    f_s = new_data[:,i]\n",
    "    f_2 = np.power(f_s,2)\n",
    "    f_3 = np.power(f_s,3)\n",
    "        \n",
    "    #stack the new features to generate a new dataset\n",
    "    ini_data = np.vstack([ini_data, f_s])\n",
    "    ini_data = np.vstack([ini_data, f_2])\n",
    "    ini_data = np.vstack([ini_data, f_3])\n",
    "        \n",
    "#remove the initiliaed data(the first row of the new dataset)\n",
    "newFeatures = ini_data[1:,:]\n",
    "    \n",
    "#transpose the dataset\n",
    "newFeatures = newFeatures.transpose()\n",
    "print newFeatures.shape\n",
    "print \"Time taken: \" + str(round(time.time() - start_time,2)) + \" seconds\""
   ]
  },
  {
   "cell_type": "code",
   "execution_count": 34,
   "metadata": {
    "collapsed": false
   },
   "outputs": [
    {
     "name": "stdout",
     "output_type": "stream",
     "text": [
      "(333, 36)\n",
      "(173, 36)\n",
      "(333,)\n",
      "(173,)\n"
     ]
    }
   ],
   "source": [
    "#Split the new featured dataset to training dataset and test dataset\n",
    "nfeature_train, nfeature_test, ntarget_train, ntarget_test = cross_validation.train_test_split(newFeatures, bdata.target, test_size=0.34, random_state=0)\n",
    "print nfeature_train.shape \n",
    "print nfeature_test.shape\n",
    "print ntarget_train.shape\n",
    "print ntarget_test.shape"
   ]
  },
  {
   "cell_type": "markdown",
   "metadata": {},
   "source": [
    "### 3.2 Let's overfit!\n",
    "Now, using your version of multivariate regression from 2.3, let's overfit the training data. Using your training set, regress housing price on as many of those *4K* features as you can.  If you get too greedy, it's possible this will take a long time to compute, so start with 5-10 features, and if you have the time, add more features.\n",
    "\n",
    "Report the RMSE when you apply your model to your training set and to your testing set. How do these numbers compare to each other, and to the RMSE from 2.5 and nearest neighbors?"
   ]
  },
  {
   "cell_type": "code",
   "execution_count": 36,
   "metadata": {
    "collapsed": false
   },
   "outputs": [
    {
     "name": "stdout",
     "output_type": "stream",
     "text": [
      "RMSE in training dataset is: 5.22819331421\n",
      "RMSE in testing dataset is: 5.79514994991\n"
     ]
    }
   ],
   "source": [
    "#Calculate the RMSE for training and testing datasets\n",
    "#####################################\n",
    "\n",
    "def calRMSE(xtrain, xtest, ytrain, ytest, R = 0.1, MaxIterations = 100000):\n",
    "    (i_coef, s_coef, iterations) = multivariate_ols(xtrain, ytrain, R=0.1, MaxIterations=100000)\n",
    "    pre_test = []\n",
    "    pre_train = []\n",
    "    m, n = xtrain.shape\n",
    "    for j in range(m):\n",
    "        train_y = i_coef + np.sum(s_coef[i]*xtrain[j,i] for i in range(n))\n",
    "        pre_train.append(train_y)\n",
    "    for j in range(len(xtest)):\n",
    "        test_y = i_coef + np.sum(s_coef[i]*xtest[j,i]for i in range(n))\n",
    "        pre_test.append(test_y)\n",
    "    rmse_train = compute_rmse(pre_train, ytrain)\n",
    "    rmse_test = compute_rmse(pre_test, ytest)\n",
    "    #print len(ytrain)\n",
    "    return rmse_train, rmse_test\n",
    "\n",
    "\n",
    "#Normolize featurs\n",
    "xtrain = standardize(nfeature_train)\n",
    "xtest = standardize(nfeature_test)\n",
    "\n",
    "#Choose 6 features to calculate\n",
    "x1 = xtrain[:,9:15]\n",
    "x2 = xtest[:,9:15]\n",
    "\n",
    "#print calRMSE(x1, x2, ntarget_train, ntarget_test, R = 0.1, MaxIterations = 100000)\n",
    "(rmse_train, rmse_test)= calRMSE(x1, x2, ntarget_train, ntarget_test, R = 0.1, MaxIterations = 100000)\n",
    "print \"RMSE in training dataset is:\", rmse_train\n",
    "print \"RMSE in testing dataset is:\", rmse_test"
   ]
  },
  {
   "cell_type": "code",
   "execution_count": 38,
   "metadata": {
    "collapsed": false
   },
   "outputs": [
    {
     "name": "stdout",
     "output_type": "stream",
     "text": [
      "The average RMSE from cross validation is: 5.04723142435\n"
     ]
    }
   ],
   "source": [
    "#Get the RMSE using cross validation\n",
    "################################################\n",
    "print \"The average RMSE from cross validation is:\",calRmse(30, x1, ntarget_train, R = 0.1, MaxIteration = 1000)"
   ]
  },
  {
   "cell_type": "code",
   "execution_count": 40,
   "metadata": {
    "collapsed": false
   },
   "outputs": [
    {
     "name": "stdout",
     "output_type": "stream",
     "text": [
      "The RMSE for nearest neighbor is: 7.15319565596\n"
     ]
    }
   ],
   "source": [
    "#Calcualte the RMSE from nearest neighbor\n",
    "###############################################\n",
    "\n",
    "#Step1: create the distance function\n",
    "def calDistance(x1, x2, l):\n",
    "    if len(x1) < len(x2):\n",
    "        length = len(x1)\n",
    "    else:\n",
    "        length = len(x2)\n",
    "    dist = 0\n",
    "    for i in range(length):\n",
    "        diff = np.abs(x1[i]-x2[i])**l\n",
    "        dist += pow(diff, 1.0/l)\n",
    "    return dist\n",
    "#Step 2 calculate the rmse\n",
    "def cal_knn_rmse(xtrain, ytrain, xtest, ytest, L):\n",
    "    dist = []\n",
    "    l = []\n",
    "    m,n = xtrain.shape\n",
    "    for i in range(len(xtest)):\n",
    "        for j in range(len(xtrain)):\n",
    "            dis = calDistance([xtest[i,m]for m in range(n)], [xtrain[j,m]for m in range(n)], L)\n",
    "            dist.append((i, dis, ytrain[j]))\n",
    "    sorted_dist = sorted(dist)\n",
    "    \n",
    "    for i in range(0, len(sorted_dist), len(xtrain)):\n",
    "        l.append(sorted_dist[i])\n",
    "    \n",
    "    p_y = [row[2] for row in l]\n",
    "    #print len(p_y)\n",
    "    rmse = compute_rmse(p_y, ytest)\n",
    "    return rmse\n",
    "\n",
    "#Use the same features to calculate the RMSE for nearest neighbor\n",
    "print \"The RMSE for nearest neighbor is:\",cal_knn_rmse(x1, ntarget_train, x2, ntarget_test, 3)"
   ]
  },
  {
   "cell_type": "markdown",
   "metadata": {},
   "source": [
    "*Discuss results here*\n",
    "\n",
    "I applied the same feature(6 features) in linear regression and calculated the RMSE using different methods. From the results, we can see that using cross validation can get the smallest RMSE. And the nearest neighbor get the largest one. The RMSE in the training dataset is samller than the RMSE in the testing dataset. That means it may be overfitted in the training dataset."
   ]
  },
  {
   "cell_type": "markdown",
   "metadata": {},
   "source": [
    "### 3.3 Ridge regularization\n",
    "Incorporate L2 (Ridge) regularization into your multivariate_ols regression. Write a new version of your gradient descent algorithm that includes a regularization term \"lambda\" to penalize excessive complexity. \n",
    "\n",
    "Use your regularized regression to re-fit the model from 3.2 above on your training data. Try this for several different values of lambda, and report your RMSE for each lambda separately for your training and testing data. How do these numbers compare to each other, to the RMSE from 3.2,  to the RMSE from 2.5, and to the RMSE from nearest neighbors?\n",
    "\n",
    "Go brag to your friends about how you just implemented ridge-regularized multivariate regression using gradient descent optimization, from scratch. If you still have friends."
   ]
  },
  {
   "cell_type": "code",
   "execution_count": 43,
   "metadata": {
    "collapsed": false
   },
   "outputs": [],
   "source": [
    "def multivariate_ols_ridge(xvalue_matrix, yvalues, R=0.01, ini_lambda = 1.0, MaxIterations=1000):\n",
    "    #Normalize features\n",
    "    xvalue_matrix = standardize(xvalue_matrix)\n",
    "    \n",
    "    #m,n represent the number of rows and columns\n",
    "    m,n = xvalue_matrix.shape\n",
    "    \n",
    "    #Initialized the value of alpha and beta as 1\n",
    "    alpha = 1.0\n",
    "    beta_array = [1.0 for i in range(n)]\n",
    "    mini_cost = 0\n",
    "    \n",
    "    #Set the iteration equals at least 1\n",
    "    iteration = 1\n",
    "    while iteration <= MaxIterations:\n",
    "        #'h' represents the simplified hypothesis\n",
    "        h = 0\n",
    "        #iterate all the features and beta\n",
    "        for i in range(n):\n",
    "            h += np.dot(xvalue_matrix[:,i],beta_array[i]) \n",
    "        \n",
    "        #Get the alpha value\n",
    "        sum_alpha = np.sum(alpha + h - yvalues)\n",
    "        alpha = alpha - R*sum_alpha/m\n",
    "        \n",
    "        #Calculate the beta value\n",
    "        for i in range(n):\n",
    "            sum_beta = np.sum((alpha + h - yvalues)*xvalue_matrix[:,i])\n",
    "            beta_array[i] = beta_array[i]*(1-ini_lambda/m) - R*sum_beta/m\n",
    "        \n",
    "        #Calcualte the cast for this iteration\n",
    "        cost = np.sum((alpha + h - yvalues)**2)/2*m + ini_lambda*np.sum([i**2 for i in beta_array])\n",
    "        \n",
    "        #Set the trigger\n",
    "        if np.abs(mini_cost - cost) <= 0.0001:\n",
    "            return alpha, beta_array,iteration\n",
    "            break\n",
    "        mini_cost = cost\n",
    "        iteration += 1   "
   ]
  },
  {
   "cell_type": "code",
   "execution_count": 44,
   "metadata": {
    "collapsed": false
   },
   "outputs": [
    {
     "name": "stdout",
     "output_type": "stream",
     "text": [
      "The RMSE for training dataset is: 5.49364206006\n",
      "The RMSE for testing dataset is: 5.78393702364\n",
      "Time taken: 0.81 seconds\n"
     ]
    }
   ],
   "source": [
    "start_time = time.time()\n",
    "#Try different lambdas:\n",
    "#Set lambda equals to 0.5\n",
    "(i_coef, s_coef, iterations) = multivariate_ols_ridge(x1, ntarget_train, R=0.01, ini_lambda = 0.5, MaxIterations=10000)\n",
    "pre_test = []\n",
    "pre_train = []\n",
    "\n",
    "m, n = x1.shape\n",
    "for j in range(m):\n",
    "    train_y = i_coef + np.sum(s_coef[i]*x1[j,i] for i in range(n))\n",
    "    pre_train.append(train_y)\n",
    "for j in range(len(xtest)):\n",
    "    test_y = i_coef + np.sum(s_coef[i]*x2[j,i]for i in range(n))\n",
    "    pre_test.append(test_y)\n",
    "rmse_train = compute_rmse(pre_train, ntarget_train)\n",
    "rmse_test = compute_rmse(pre_test, ntarget_test)\n",
    "#print len(ytrain)\n",
    "print \"The RMSE for training dataset is:\",rmse_train\n",
    "print \"The RMSE for testing dataset is:\",rmse_test\n",
    "print \"Time taken: \" + str(round(time.time() - start_time,2)) + \" seconds\""
   ]
  },
  {
   "cell_type": "code",
   "execution_count": 32,
   "metadata": {
    "collapsed": false
   },
   "outputs": [
    {
     "name": "stdout",
     "output_type": "stream",
     "text": [
      "The RMSE for training dataset is: 5.72524286986\n",
      "The RMSE for testing dataset is: 5.88434577312\n",
      "Time taken: 0.51 seconds\n"
     ]
    }
   ],
   "source": [
    "start_time = time.time()\n",
    "#Try different lambdas:\n",
    "#Set lambda equals to 1.0\n",
    "(i_coef, s_coef, iterations) = multivariate_ols_ridge(x1, ntarget_train, R=0.01, ini_lambda = 1.0, MaxIterations=10000)\n",
    "pre_test = []\n",
    "pre_train = []\n",
    "m, n = x1.shape\n",
    "for j in range(m):\n",
    "    train_y = i_coef + np.sum(s_coef[i]*x1[j,i] for i in range(n))\n",
    "    pre_train.append(train_y)\n",
    "for j in range(len(xtest)):\n",
    "    test_y = i_coef + np.sum(s_coef[i]*x2[j,i]for i in range(n))\n",
    "    pre_test.append(test_y)\n",
    "rmse_train = compute_rmse(pre_train, ntarget_train)\n",
    "rmse_test = compute_rmse(pre_test, ntarget_test)\n",
    "#print len(ytrain)\n",
    "print \"The RMSE for training dataset is:\",rmse_train\n",
    "print \"The RMSE for testing dataset is:\",rmse_test\n",
    "print \"Time taken: \" + str(round(time.time() - start_time,2)) + \" seconds\""
   ]
  },
  {
   "cell_type": "code",
   "execution_count": 33,
   "metadata": {
    "collapsed": false
   },
   "outputs": [
    {
     "name": "stdout",
     "output_type": "stream",
     "text": [
      "The RMSE for training dataset is: 5.91454200657\n",
      "The RMSE for testing dataset is: 5.99011600846\n",
      "Time taken: 0.37 seconds\n"
     ]
    }
   ],
   "source": [
    "#Try different lambdas:\n",
    "#Set lambda equals to 1.5\n",
    "start_time = time.time()\n",
    "(i_coef, s_coef, iterations) = multivariate_ols_ridge(x1, ntarget_train, R=0.01, ini_lambda = 1.5, MaxIterations=10000)\n",
    "pre_test = []\n",
    "pre_train = []\n",
    "h_train = 0\n",
    "m, n = x1.shape\n",
    "for j in range(m):\n",
    "    train_y = i_coef + np.sum(s_coef[i]*x1[j,i] for i in range(n))\n",
    "    pre_train.append(train_y)\n",
    "for j in range(len(xtest)):\n",
    "    test_y = i_coef + np.sum(s_coef[i]*x2[j,i]for i in range(n))\n",
    "    pre_test.append(test_y)\n",
    "rmse_train = compute_rmse(pre_train, ntarget_train)\n",
    "rmse_test = compute_rmse(pre_test, ntarget_test)\n",
    "#print len(ytrain)\n",
    "print \"The RMSE for training dataset is:\",rmse_train\n",
    "print \"The RMSE for testing dataset is:\",rmse_test\n",
    "print \"Time taken: \" + str(round(time.time() - start_time,2)) + \" seconds\""
   ]
  },
  {
   "cell_type": "code",
   "execution_count": 34,
   "metadata": {
    "collapsed": false
   },
   "outputs": [
    {
     "name": "stdout",
     "output_type": "stream",
     "text": [
      "The RMSE for training dataset is: 6.85882475626\n",
      "The RMSE for testing dataset is: 6.69518036814\n",
      "Time taken: 0.16 seconds\n"
     ]
    }
   ],
   "source": [
    "#Try different lambdas:\n",
    "#Set lambda equals to 5.5\n",
    "start_time = time.time()\n",
    "(i_coef, s_coef, iterations) = multivariate_ols_ridge(x1, ntarget_train, R=0.01, ini_lambda = 5.5, MaxIterations=10000)\n",
    "pre_test = []\n",
    "pre_train = []\n",
    "h_train = 0\n",
    "m, n = x1.shape\n",
    "for j in range(m):\n",
    "    train_y = i_coef + np.sum(s_coef[i]*x1[j,i] for i in range(n))\n",
    "    pre_train.append(train_y)\n",
    "for j in range(len(xtest)):\n",
    "    test_y = i_coef + np.sum(s_coef[i]*x2[j,i]for i in range(n))\n",
    "    pre_test.append(test_y)\n",
    "rmse_train = compute_rmse(pre_train, ntarget_train)\n",
    "rmse_test = compute_rmse(pre_test, ntarget_test)\n",
    "#print len(ytrain)\n",
    "print \"The RMSE for training dataset is:\",rmse_train\n",
    "print \"The RMSE for testing dataset is:\",rmse_test\n",
    "print \"Time taken: \" + str(round(time.time() - start_time,2)) + \" seconds\""
   ]
  },
  {
   "cell_type": "code",
   "execution_count": 35,
   "metadata": {
    "collapsed": false
   },
   "outputs": [
    {
     "name": "stdout",
     "output_type": "stream",
     "text": [
      "The RMSE for training dataset is: 7.48163239424\n",
      "The RMSE for testing dataset is: 7.24029215802\n",
      "Time taken: 0.16 seconds\n"
     ]
    }
   ],
   "source": [
    "#Try different lambdas:\n",
    "#Set lambda equals to 10.5\n",
    "start_time = time.time()\n",
    "(i_coef, s_coef, iterations) = multivariate_ols_ridge(x1, ntarget_train, R=0.01, ini_lambda = 10.5, MaxIterations=10000)\n",
    "pre_test = []\n",
    "pre_train = []\n",
    "h_train = 0\n",
    "m, n = x1.shape\n",
    "for j in range(m):\n",
    "    train_y = i_coef + np.sum(s_coef[i]*x1[j,i] for i in range(n))\n",
    "    pre_train.append(train_y)\n",
    "for j in range(len(xtest)):\n",
    "    test_y = i_coef + np.sum(s_coef[i]*x2[j,i]for i in range(n))\n",
    "    pre_test.append(test_y)\n",
    "rmse_train = compute_rmse(pre_train, ntarget_train)\n",
    "rmse_test = compute_rmse(pre_test, ntarget_test)\n",
    "#print len(ytrain)\n",
    "print \"The RMSE for training dataset is:\",rmse_train\n",
    "print \"The RMSE for testing dataset is:\",rmse_test\n",
    "print \"Time taken: \" + str(round(time.time() - start_time,2)) + \" seconds\""
   ]
  },
  {
   "cell_type": "code",
   "execution_count": 36,
   "metadata": {
    "collapsed": false
   },
   "outputs": [
    {
     "name": "stdout",
     "output_type": "stream",
     "text": [
      "The RMSE for training dataset is: 8.39389357287\n",
      "The RMSE for testing dataset is: 8.08490563668\n",
      "Time taken: 0.16 seconds\n"
     ]
    }
   ],
   "source": [
    "#Try different lambdas:\n",
    "#Set lambda equals to 30\n",
    "start_time = time.time()\n",
    "(i_coef, s_coef, iterations) = multivariate_ols_ridge(x1, ntarget_train, R=0.01, ini_lambda = 30.0, MaxIterations=10000)\n",
    "pre_test = []\n",
    "pre_train = []\n",
    "h_train = 0\n",
    "m, n = x1.shape\n",
    "for j in range(m):\n",
    "    train_y = i_coef + np.sum(s_coef[i]*x1[j,i] for i in range(n))\n",
    "    pre_train.append(train_y)\n",
    "for j in range(len(xtest)):\n",
    "    test_y = i_coef + np.sum(s_coef[i]*x2[j,i]for i in range(n))\n",
    "    pre_test.append(test_y)\n",
    "rmse_train = compute_rmse(pre_train, ntarget_train)\n",
    "rmse_test = compute_rmse(pre_test, ntarget_test)\n",
    "#print len(ytrain)\n",
    "print \"The RMSE for training dataset is:\",rmse_train\n",
    "print \"The RMSE for testing dataset is:\",rmse_test\n",
    "print \"Time taken: \" + str(round(time.time() - start_time,2)) + \" seconds\""
   ]
  },
  {
   "cell_type": "code",
   "execution_count": 37,
   "metadata": {
    "collapsed": false
   },
   "outputs": [
    {
     "name": "stdout",
     "output_type": "stream",
     "text": [
      "The RMSE for training dataset is: 8.99906995738\n",
      "The RMSE for testing dataset is: 8.66164368398\n",
      "Time taken: 0.17 seconds\n"
     ]
    }
   ],
   "source": [
    "#Try different lambdas:\n",
    "#Set lambda equals to 105.5\n",
    "start_time = time.time()\n",
    "(i_coef, s_coef, iterations) = multivariate_ols_ridge(x1, ntarget_train, R=0.01, ini_lambda = 105.5, MaxIterations=10000)\n",
    "pre_test = []\n",
    "pre_train = []\n",
    "m, n = x1.shape\n",
    "for j in range(m):\n",
    "    train_y = i_coef + np.sum(s_coef[i]*x1[j,i] for i in range(n))\n",
    "    pre_train.append(train_y)\n",
    "for j in range(len(xtest)):\n",
    "    test_y = i_coef + np.sum(s_coef[i]*x2[j,i]for i in range(n))\n",
    "    pre_test.append(test_y)\n",
    "rmse_train = compute_rmse(pre_train, ntarget_train)\n",
    "rmse_test = compute_rmse(pre_test, ntarget_test)\n",
    "#print len(ytrain)\n",
    "print \"The RMSE for training dataset is:\",rmse_train\n",
    "print \"The RMSE for testing dataset is:\",rmse_test\n",
    "print \"Time taken: \" + str(round(time.time() - start_time,2)) + \" seconds\""
   ]
  },
  {
   "cell_type": "code",
   "execution_count": 38,
   "metadata": {
    "collapsed": false
   },
   "outputs": [
    {
     "name": "stdout",
     "output_type": "stream",
     "text": [
      "The RMSE for training dataset is: 9.21368381679\n",
      "The RMSE for testing dataset is: 8.86822314301\n",
      "Time taken: 0.16 seconds\n"
     ]
    }
   ],
   "source": [
    "#Try different lambdas:\n",
    "#Set lambda equals to 355.5\n",
    "start_time = time.time()\n",
    "(i_coef, s_coef, iterations) = multivariate_ols_ridge(x1, ntarget_train, R=0.01, ini_lambda = 355.5, MaxIterations=10000)\n",
    "pre_test = []\n",
    "pre_train = []\n",
    "m, n = x1.shape\n",
    "for j in range(m):\n",
    "    train_y = i_coef + np.sum(s_coef[i]*x1[j,i] for i in range(n))\n",
    "    pre_train.append(train_y)\n",
    "for j in range(len(xtest)):\n",
    "    test_y = i_coef + np.sum(s_coef[i]*x2[j,i]for i in range(n))\n",
    "    pre_test.append(test_y)\n",
    "rmse_train = compute_rmse(pre_train, ntarget_train)\n",
    "rmse_test = compute_rmse(pre_test, ntarget_test)\n",
    "#print len(ytrain)\n",
    "print \"The RMSE for training dataset is:\",rmse_train\n",
    "print \"The RMSE for testing dataset is:\",rmse_test\n",
    "print \"Time taken: \" + str(round(time.time() - start_time,2)) + \" seconds\""
   ]
  },
  {
   "cell_type": "markdown",
   "metadata": {},
   "source": [
    "#### *Discuss your results here*\n",
    "\n",
    "With the different values of lambda, the RMSE is different. The bigger the lambda value is, the bigger RMSE will get. Compare to the RMSE from 3.2, we can see that using cross validation can get the smallest RMSE. Still the nearest neighbor get the largest RMSE. The RMSEs in the training and testing dataset are very similar to those got from 3.2 when the lambda value is small. The RMSE in the training dataset is bigger than the RMSE in the testing dataset when the model use the same value of lambda. "
   ]
  },
  {
   "cell_type": "markdown",
   "metadata": {},
   "source": [
    "### Extra Credit: Cross-validate lambda\n",
    "\n",
    "Use k-fold cross-validation to select the optimal value of lambda. Report the average RMSE across all training sets, and the average RMSE across all testing sets. How do these numbers compare to each other, to the RMSE from 3.2-3.3, to the RMSE from 2.5, and to the RMSE from nearest neighbors?  Finally, create a scatter plot that shows RMSE as a function of lambda."
   ]
  },
  {
   "cell_type": "code",
   "execution_count": 39,
   "metadata": {
    "collapsed": false
   },
   "outputs": [],
   "source": [
    "import time\n",
    "start_time = time.time()\n",
    "p = 1.0\n",
    "def cross_lambda(k, xdata, ydata, R = 0.01, ini_lambda= p, MaxIterations = 10000):\n",
    "    length = len(xdata)\n",
    "    kf = KFold(length, n_folds=k)\n",
    "    RMSE = []\n",
    "    m,n = xdata.shape\n",
    "    #Splite the dataset to training dataset and test dataset based on K values\n",
    "    for train, test in kf:\n",
    "        x_train = xdata[train]\n",
    "        x_test = xdata[test]\n",
    "        y_train =ydata[train]\n",
    "        y_test = ydata[test]\n",
    "        \n",
    "        #Call the grediant descent function\n",
    "        (inte_coef, slo_coef,iterations) = multivariate_ols_ridge(x_train, y_train, R=0.01, ini_lambda = p, MaxIterations=10000)\n",
    "        \n",
    "        #Use the test dataset to get the prediction values\n",
    "        predictions = []\n",
    "        for j in range(len(x_test)):\n",
    "            y = inte_coef + np.sum(slo_coef[i]*x_test[j,i] for i in range(n))\n",
    "            predictions.append(y)\n",
    "        \n",
    "        #Calculate the rmse:\n",
    "        rmse = compute_rmse(predictions, y_test)\n",
    "        RMSE.append(rmse)\n",
    "        \n",
    "    #Get the average 'RMSE'    \n",
    "    avg_rmse = np.mean(RMSE, axis = 0)   \n",
    "    return avg_rmse\n"
   ]
  },
  {
   "cell_type": "code",
   "execution_count": 40,
   "metadata": {
    "collapsed": false
   },
   "outputs": [
    {
     "data": {
      "image/png": "[encoded data removed]",
      "text/plain": [
       "<matplotlib.figure.Figure at 0x11a960f90>"
      ]
     },
     "metadata": {},
     "output_type": "display_data"
    },
    {
     "name": "stdout",
     "output_type": "stream",
     "text": [
      "Time taken: 35.04 seconds\n"
     ]
    }
   ],
   "source": [
    "start_time = time.time()\n",
    "#Normalize features\n",
    "d = {}\n",
    "lam = [np.float(i) for i in range(1,500,10)]\n",
    "for p in lam:\n",
    "    RMSE = cross_lambda(5, x1, ntarget_train, R = 0.01, ini_lambda = p, MaxIterations = 10000)\n",
    "    d[p] = RMSE\n",
    "#Make a graph to show the pattern of RMSE and k-value\n",
    "v_lambda = [key for key in d]\n",
    "rmse = [d[key] for key in d ]\n",
    "\n",
    "#make a plot\n",
    "plt.figure(figsize=(9,6))\n",
    "ax = plt.subplot(111)\n",
    "ax.spines[\"right\"].set_visible(False)\n",
    "ax.spines[\"top\"].set_visible(False)\n",
    "plt.tick_params(top = \"off\", right = \"off\")\n",
    "#Change the color of the bars to be green and change the bin width to be $1000\n",
    "plt.scatter(v_lambda, rmse, color = 'purple')\n",
    "#Add x and y labels\n",
    "plt.ylabel(\"RMSE\")\n",
    "plt.xlabel(\"Value of Lambda\")\n",
    "plt.title('Relationship between RMSE and Lambda')  \n",
    "plt.grid()  \n",
    "plt.show()\n",
    "print \"Time taken: \" + str(round(time.time() - start_time,2)) + \" seconds\""
   ]
  },
  {
   "cell_type": "code",
   "execution_count": 41,
   "metadata": {
    "collapsed": false
   },
   "outputs": [
    {
     "data": {
      "image/png": "[encoded data removed]",
      "text/plain": [
       "<matplotlib.figure.Figure at 0x11520a2d0>"
      ]
     },
     "metadata": {},
     "output_type": "display_data"
    },
    {
     "name": "stdout",
     "output_type": "stream",
     "text": [
      "Time taken: 67.95 seconds\n"
     ]
    }
   ],
   "source": [
    "start_time = time.time()\n",
    "d = {}\n",
    "lam = [np.float(i) for i in range(1,100,1)]\n",
    "for p in lam:\n",
    "    RMSE = cross_lambda(5, x1, ntarget_train, R = 0.01, ini_lambda = p, MaxIterations = 10000)\n",
    "    d[p] = RMSE\n",
    "    \n",
    "#Make a graph to show the pattern of RMSE and k-value\n",
    "v_lambda = [key for key in d]\n",
    "rmse = [d[key] for key in d ]\n",
    "\n",
    "#Make a plot\n",
    "plt.figure(figsize=(9,6))\n",
    "ax = plt.subplot(111)\n",
    "ax.spines[\"right\"].set_visible(False)\n",
    "ax.spines[\"top\"].set_visible(False)\n",
    "plt.tick_params(top = \"off\", right = \"off\")\n",
    "#Change the color of the bars to be green and change the bin width to be $1000\n",
    "plt.scatter(v_lambda, rmse, color = 'purple')\n",
    "#Add x and y labels\n",
    "plt.ylabel(\"RMSE\")\n",
    "plt.xlabel(\"Value of Lambda\")\n",
    "plt.title('Relationship between RMSE and Lambda')  \n",
    "plt.grid()  \n",
    "plt.show()\n",
    "print \"Time taken: \" + str(round(time.time() - start_time,2)) + \" seconds\""
   ]
  },
  {
   "cell_type": "markdown",
   "metadata": {},
   "source": [
    "*Discuss your results here*\n",
    "\n",
    "I made two graphs to show the relationship between the value of lambda and RMSE. In the first one, the value of lambda has a broad range(from 1 to 500 with a step of 10). In the sencod graph, I zoomed in the value of lambda to within 100. From the graphs, we can see that, when the value of lambda grow up, the RMSE also becomes bigger. The best choice of lambda is 0 from the result."
   ]
  },
  {
   "cell_type": "markdown",
   "metadata": {},
   "source": [
    "### Lambda and coefficients\n",
    "\n",
    "If you're feeling extra-special, create a parameter plot that shows how the different coefficient estimates change as a function of lambda. To make this graph intelligible, only include the *K* original F_s features in this plot"
   ]
  },
  {
   "cell_type": "code",
   "execution_count": 42,
   "metadata": {
    "collapsed": false
   },
   "outputs": [
    {
     "data": {
      "image/png": "[encoded data removed]",
      "text/plain": [
       "<matplotlib.figure.Figure at 0x11975f3d0>"
      ]
     },
     "metadata": {},
     "output_type": "display_data"
    },
    {
     "name": "stdout",
     "output_type": "stream",
     "text": [
      "Time taken: 13.07 seconds\n"
     ]
    }
   ],
   "source": [
    "start_time = time.time()\n",
    "# Your code here\n",
    "x = standardize(bdata_train)\n",
    "x = x[:,:5]\n",
    "\n",
    "d = {}\n",
    "lam = [np.float(i) for i in range(1,100,1)]\n",
    "for p in lam:\n",
    "    (in_coef, sl_coef, iterations) = multivariate_ols_ridge(x, btarget_train, R=0.01, ini_lambda = p, MaxIterations=10000)\n",
    "    d[p] = in_coef\n",
    "#Make a graph to show the pattern of RMSE and k-value\n",
    "v_lambda = [key for key in d]\n",
    "in_coef = [d[key] for key in d ]\n",
    "\n",
    "#Make a plot\n",
    "plt.figure(figsize=(9,6))\n",
    "ax = plt.subplot(111)\n",
    "ax.spines[\"right\"].set_visible(False)\n",
    "ax.spines[\"top\"].set_visible(False)\n",
    "plt.tick_params(top = \"off\", right = \"off\")\n",
    "#Change the color of the bars to be green and change the bin width to be $1000\n",
    "plt.scatter(v_lambda, in_coef, color = 'purple')\n",
    "#Add x and y labels\n",
    "plt.ylabel(\"Intercept Coefficient\")\n",
    "plt.xlabel(\"Value of Lambda\")\n",
    "plt.title('Relationship between Lambda and Intercept Coefficient')  \n",
    "plt.grid()  \n",
    "plt.show()\n",
    "print \"Time taken: \" + str(round(time.time() - start_time,2)) + \" seconds\""
   ]
  },
  {
   "cell_type": "markdown",
   "metadata": {},
   "source": [
    "The graph above shows the relationship between the value of lambda and intercept coefficient. From the result, we can see that the value of lambda doesn't have a big effect on the slope coefficient."
   ]
  },
  {
   "cell_type": "code",
   "execution_count": 43,
   "metadata": {
    "collapsed": false
   },
   "outputs": [
    {
     "data": {
      "image/png": "[encoded data removed]",
      "text/plain": [
       "<matplotlib.figure.Figure at 0x11975f2d0>"
      ]
     },
     "metadata": {},
     "output_type": "display_data"
    },
    {
     "name": "stdout",
     "output_type": "stream",
     "text": [
      "Time taken: 5.44 seconds\n"
     ]
    }
   ],
   "source": [
    "start_time = time.time()\n",
    "#Normalize features\n",
    "x = standardize(bdata_train)\n",
    "x = x[:,5:6]\n",
    "\n",
    "d = {}\n",
    "lam = [np.float(i) for i in range(1,100,1)]\n",
    "for p in lam:\n",
    "    (in_coef, sl_coef, iterations) = multivariate_ols_ridge(x, btarget_train, R=0.01, ini_lambda = p, MaxIterations=10000)\n",
    "    d[p] = sl_coef\n",
    "#Make a graph to show the pattern of RMSE and k-value\n",
    "v_lambda = [key for key in d]\n",
    "sl_coef = [d[key] for key in d ]\n",
    "\n",
    "#Make a plot\n",
    "plt.figure(figsize=(9,6))\n",
    "ax = plt.subplot(111)\n",
    "ax.spines[\"right\"].set_visible(False)\n",
    "ax.spines[\"top\"].set_visible(False)\n",
    "plt.tick_params(top = \"off\", right = \"off\")\n",
    "#Change the color of the bars to be green and change the bin width to be $1000\n",
    "plt.scatter(v_lambda, sl_coef, color = 'purple')\n",
    "#Add x and y labels\n",
    "plt.ylabel(\"Slope Coefficient\")\n",
    "plt.xlabel(\"Value of Lambda\")\n",
    "plt.title('Relationship between Lambda and Slope Coefficient')  \n",
    "plt.grid()  \n",
    "plt.show()\n",
    "print \"Time taken: \" + str(round(time.time() - start_time,2)) + \" seconds\""
   ]
  },
  {
   "cell_type": "markdown",
   "metadata": {},
   "source": [
    "*Discuss your results here*\n",
    "\n",
    "The seconde graph shows the relationship between the value of lambda and slope coefficients. From the result, we can see that the slope coefficient goes down when the value of lambda goes up. "
   ]
  }
 ],
 "metadata": {
  "anaconda-cloud": {},
  "kernelspec": {
   "display_name": "Python [default]",
   "language": "python",
   "name": "python2"
  },
  "language_info": {
   "codemirror_mode": {
    "name": "ipython",
    "version": 2
   },
   "file_extension": ".py",
   "mimetype": "text/x-python",
   "name": "python",
   "nbconvert_exporter": "python",
   "pygments_lexer": "ipython2",
   "version": "2.7.12"
  }
 },
 "nbformat": 4,
 "nbformat_minor": 0
}
